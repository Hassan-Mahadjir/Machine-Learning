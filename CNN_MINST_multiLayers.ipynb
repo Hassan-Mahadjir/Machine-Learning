{
  "nbformat": 4,
  "nbformat_minor": 0,
  "metadata": {
    "colab": {
      "provenance": [],
      "authorship_tag": "ABX9TyMJ9HcWJNqlgmlz956R1kgx",
      "include_colab_link": true
    },
    "kernelspec": {
      "name": "python3",
      "display_name": "Python 3"
    },
    "language_info": {
      "name": "python"
    }
  },
  "cells": [
    {
      "cell_type": "markdown",
      "metadata": {
        "id": "view-in-github",
        "colab_type": "text"
      },
      "source": [
        "<a href=\"https://colab.research.google.com/github/Hassan-Mahadjir/Machine-Learning/blob/main/CNN_MINST_multiLayers.ipynb\" target=\"_parent\"><img src=\"https://colab.research.google.com/assets/colab-badge.svg\" alt=\"Open In Colab\"/></a>"
      ]
    },
    {
      "cell_type": "code",
      "execution_count": null,
      "metadata": {
        "id": "5c1jWZ7VRqH_"
      },
      "outputs": [],
      "source": [
        "import torch\n",
        "import torch.nn as nn\n",
        "import torch.nn.functional as F\n",
        "import torch.utils.data as Data\n",
        "import torch.optim as optim\n",
        "from torchvision import transforms, datasets\n",
        "\n",
        "import numpy as np\n",
        "import pandas as pd\n",
        "from sklearn.metrics import confusion_matrix\n",
        "import matplotlib.pyplot as plt\n",
        "%matplotlib inline"
      ]
    },
    {
      "cell_type": "code",
      "source": [
        "# Convert MNIST Files into Tensor of 4-D (# of images, Hight, Width, Colour channel)\n",
        "\n",
        "transform = transforms.ToTensor()"
      ],
      "metadata": {
        "id": "xgctPq4cSyzh"
      },
      "execution_count": null,
      "outputs": []
    },
    {
      "cell_type": "code",
      "source": [
        "# Train Data\n",
        "train_data = datasets.MNIST(root='./cnn_data', train=True, download=True, transform=transform)"
      ],
      "metadata": {
        "id": "lX_uvczXTQVL",
        "colab": {
          "base_uri": "https://localhost:8080/"
        },
        "outputId": "86426887-5569-4b27-c982-029692ab9886"
      },
      "execution_count": null,
      "outputs": [
        {
          "output_type": "stream",
          "name": "stderr",
          "text": [
            "100%|██████████| 9.91M/9.91M [00:00<00:00, 17.8MB/s]\n",
            "100%|██████████| 28.9k/28.9k [00:00<00:00, 482kB/s]\n",
            "100%|██████████| 1.65M/1.65M [00:00<00:00, 4.44MB/s]\n",
            "100%|██████████| 4.54k/4.54k [00:00<00:00, 6.20MB/s]\n"
          ]
        }
      ]
    },
    {
      "cell_type": "code",
      "source": [
        "# test Data\n",
        "test_data = datasets.MNIST(root='./cnn_data', train=False, download=True, transform=transform)"
      ],
      "metadata": {
        "id": "XMH6JfX2T0lB"
      },
      "execution_count": null,
      "outputs": []
    },
    {
      "cell_type": "code",
      "source": [
        "test_data"
      ],
      "metadata": {
        "colab": {
          "base_uri": "https://localhost:8080/"
        },
        "id": "JbO3BFvMT96X",
        "outputId": "ac1bba0d-47b6-44f1-d15a-827af61b215d"
      },
      "execution_count": null,
      "outputs": [
        {
          "output_type": "execute_result",
          "data": {
            "text/plain": [
              "Dataset MNIST\n",
              "    Number of datapoints: 10000\n",
              "    Root location: ./cnn_data\n",
              "    Split: Test\n",
              "    StandardTransform\n",
              "Transform: ToTensor()"
            ]
          },
          "metadata": {},
          "execution_count": 5
        }
      ]
    },
    {
      "cell_type": "code",
      "source": [
        "# Create a small batch size for images\n",
        "train_loader = Data.DataLoader(dataset=train_data, batch_size=10, shuffle=True)\n",
        "test_loader = Data.DataLoader(dataset=test_data, batch_size=10, shuffle=False)"
      ],
      "metadata": {
        "id": "cKNlaVtkUaJ1"
      },
      "execution_count": null,
      "outputs": []
    },
    {
      "cell_type": "code",
      "source": [
        "# Define CNN Model\n",
        "# Convolutional Neural Network (exercize)\n",
        "# (input, output, filter_size(Kernal), stride)\n",
        "conv1 = nn.Conv2d(1, 6, 3, 1)\n",
        "conv2 = nn.Conv2d(6, 16, 3, 1)\n"
      ],
      "metadata": {
        "id": "U1EDc7SIVM4T"
      },
      "execution_count": null,
      "outputs": []
    },
    {
      "cell_type": "code",
      "source": [
        "# Grab 1 MNIST record/image\n",
        "for i,(X_Train,Y_Train) in enumerate(train_data):\n",
        "    break"
      ],
      "metadata": {
        "id": "MqRyyMkzV-cP"
      },
      "execution_count": null,
      "outputs": []
    },
    {
      "cell_type": "code",
      "source": [
        "X_Train.shape"
      ],
      "metadata": {
        "colab": {
          "base_uri": "https://localhost:8080/"
        },
        "id": "NPWOJBlSWTI5",
        "outputId": "b6441f2e-f8cd-46f0-c0d1-52fdf86cd6f5"
      },
      "execution_count": null,
      "outputs": [
        {
          "output_type": "execute_result",
          "data": {
            "text/plain": [
              "torch.Size([1, 28, 28])"
            ]
          },
          "metadata": {},
          "execution_count": 9
        }
      ]
    },
    {
      "cell_type": "code",
      "source": [
        "x = X_Train.view(1,1,28,28)"
      ],
      "metadata": {
        "id": "STitNxXnWX5j"
      },
      "execution_count": null,
      "outputs": []
    },
    {
      "cell_type": "code",
      "source": [
        "# Perform our first convolution\n",
        "x = F.relu(conv1(x))\n"
      ],
      "metadata": {
        "id": "RSaxfzTxXLf3"
      },
      "execution_count": null,
      "outputs": []
    },
    {
      "cell_type": "code",
      "source": [
        "# 1 single image, 6 filter(s), 26x26\n",
        "x.shape"
      ],
      "metadata": {
        "colab": {
          "base_uri": "https://localhost:8080/"
        },
        "id": "RM56m1yTXToY",
        "outputId": "4d492e9f-fcac-4273-f5ab-3eddb40a31c4"
      },
      "execution_count": null,
      "outputs": [
        {
          "output_type": "execute_result",
          "data": {
            "text/plain": [
              "torch.Size([1, 6, 26, 26])"
            ]
          },
          "metadata": {},
          "execution_count": 12
        }
      ]
    },
    {
      "cell_type": "code",
      "source": [
        "# Pass thru the pooling layer\n",
        "x = F.max_pool2d(x, 2, 2) #kernal of 2 and stride of 2"
      ],
      "metadata": {
        "id": "DlwuNakUXsc3"
      },
      "execution_count": null,
      "outputs": []
    },
    {
      "cell_type": "code",
      "source": [
        "x.shape"
      ],
      "metadata": {
        "colab": {
          "base_uri": "https://localhost:8080/"
        },
        "id": "F-BwT621Yfgi",
        "outputId": "16b6844d-8549-480f-e4bc-720e49c73856"
      },
      "execution_count": null,
      "outputs": [
        {
          "output_type": "execute_result",
          "data": {
            "text/plain": [
              "torch.Size([1, 6, 13, 13])"
            ]
          },
          "metadata": {},
          "execution_count": 14
        }
      ]
    },
    {
      "cell_type": "code",
      "source": [
        "# Do our second convolutioal layer\n",
        "x = F.relu(conv2(x))"
      ],
      "metadata": {
        "id": "EA1B_IqhYleR"
      },
      "execution_count": null,
      "outputs": []
    },
    {
      "cell_type": "code",
      "source": [
        "x.shape"
      ],
      "metadata": {
        "colab": {
          "base_uri": "https://localhost:8080/"
        },
        "id": "QkfshWS6ZDKm",
        "outputId": "fdd3044c-6234-4235-fd7d-cd9445865e81"
      },
      "execution_count": null,
      "outputs": [
        {
          "output_type": "execute_result",
          "data": {
            "text/plain": [
              "torch.Size([1, 16, 11, 11])"
            ]
          },
          "metadata": {},
          "execution_count": 16
        }
      ]
    },
    {
      "cell_type": "code",
      "source": [
        "x = F.max_pool2d(x,2,2)"
      ],
      "metadata": {
        "id": "RzFdF0ihZENx"
      },
      "execution_count": null,
      "outputs": []
    },
    {
      "cell_type": "code",
      "source": [
        "x.shape"
      ],
      "metadata": {
        "colab": {
          "base_uri": "https://localhost:8080/"
        },
        "id": "ftuK-0nfZVdw",
        "outputId": "921fa449-eeec-4643-d6be-225d117b8cf5"
      },
      "execution_count": null,
      "outputs": [
        {
          "output_type": "execute_result",
          "data": {
            "text/plain": [
              "torch.Size([1, 16, 5, 5])"
            ]
          },
          "metadata": {},
          "execution_count": 18
        }
      ]
    },
    {
      "cell_type": "code",
      "source": [
        "class ConvolutionalNetwork(nn.Module):\n",
        "  def __init__(self):\n",
        "    super().__init__()\n",
        "    self.conv1 = nn.Conv2d(1,6,3,1)\n",
        "    self.conv2 = nn.Conv2d(6,16,3,1)\n",
        "    # Fully Connected Layer\n",
        "    self.fc1 = nn.Linear(5*5*16, 120)\n",
        "    self.fc2 = nn.Linear(120, 84)\n",
        "    self.fc3 = nn.Linear(84, 10)\n",
        "\n",
        "  def forward(self, X):\n",
        "    X = F.relu(self.conv1(X))\n",
        "    X = F.max_pool2d(X,2,2) # 2x2 kernal and stride 2\n",
        "    # Second Pass\n",
        "    X = F.relu(self.conv2(X))\n",
        "    X = F.max_pool2d(X,2,2) # 2x2 kernal and stride 2\n",
        "\n",
        "    # Re-View to flatten it out\n",
        "    X = X.view(-1, 16*5*5) # negative one so that we can vary the batch size\n",
        "\n",
        "    # Fully Connected Layers\n",
        "    X = F.relu(self.fc1(X))\n",
        "    X = F.relu(self.fc2(X))\n",
        "    X = self.fc3(X)\n",
        "    return F.log_softmax(X, dim=1)"
      ],
      "metadata": {
        "id": "LBTLwHL9ZZJ0"
      },
      "execution_count": null,
      "outputs": []
    },
    {
      "cell_type": "markdown",
      "source": [
        "The number for the fc1,fc2,fc3 are arbiriry, it it should endup with total number of classes we have in dataset ( 10) from 0 - 9"
      ],
      "metadata": {
        "id": "DqfREEaQlidq"
      }
    },
    {
      "cell_type": "code",
      "source": [
        "# create an instance of our model\n",
        "\n",
        "# Create an Instance of our Model\n",
        "torch.manual_seed(41)\n",
        "model = ConvolutionalNetwork()\n",
        "model\n"
      ],
      "metadata": {
        "id": "JRDxTJ0hlzbj",
        "colab": {
          "base_uri": "https://localhost:8080/"
        },
        "outputId": "3cfdc82f-bd58-40a9-fe98-ac2eb1249412"
      },
      "execution_count": null,
      "outputs": [
        {
          "output_type": "execute_result",
          "data": {
            "text/plain": [
              "ConvolutionalNetwork(\n",
              "  (conv1): Conv2d(1, 6, kernel_size=(3, 3), stride=(1, 1))\n",
              "  (conv2): Conv2d(6, 16, kernel_size=(3, 3), stride=(1, 1))\n",
              "  (fc1): Linear(in_features=400, out_features=120, bias=True)\n",
              "  (fc2): Linear(in_features=120, out_features=84, bias=True)\n",
              "  (fc3): Linear(in_features=84, out_features=10, bias=True)\n",
              ")"
            ]
          },
          "metadata": {},
          "execution_count": 20
        }
      ]
    },
    {
      "cell_type": "code",
      "source": [
        "# Loss Function Optimizer\n",
        "criterion = nn.CrossEntropyLoss()\n",
        "optimizer = torch.optim.Adam(model.parameters(), lr=0.001) # smaller teh learnign rate, longer it going to take to learn"
      ],
      "metadata": {
        "id": "rMUO_8d5m9VJ"
      },
      "execution_count": null,
      "outputs": []
    },
    {
      "cell_type": "code",
      "source": [
        "import time\n",
        "start_time = time.time()\n",
        "\n",
        "# Create Variables To Tracks Things\n",
        "epochs = 5\n",
        "train_losses = []\n",
        "test_losses = []\n",
        "train_correct = []\n",
        "test_correct = []\n",
        "\n",
        "# For Loop of Epochs\n",
        "for i in range(epochs):\n",
        "  trn_corr = 0\n",
        "  tst_corr = 0\n",
        "\n",
        "\n",
        "  # Train\n",
        "  for b,(X_train, y_train) in enumerate(train_loader):\n",
        "    b+=1 # start our batches at 1\n",
        "    y_pred = model(X_train) # get predicted values from the training set. Not flattened 2D\n",
        "    loss = criterion(y_pred, y_train) # how off are we? Compare the predictions to correct answers in y_train\n",
        "\n",
        "    predicted = torch.max(y_pred.data, 1)[1] # add up the number of correct predictions. Indexed off the first point\n",
        "    batch_corr = (predicted == y_train).sum() # how many we got correct from this batch. True = 1, False=0, sum those up\n",
        "    trn_corr += batch_corr # keep track as we go along in training.\n",
        "\n",
        "    # Update our parameters\n",
        "    optimizer.zero_grad()\n",
        "    loss.backward()\n",
        "    optimizer.step()\n",
        "\n",
        "\n",
        "    # Print out some results\n",
        "    if b%600 == 0:\n",
        "      print(f'Epoch: {i}  Batch: {b}  Loss: {loss.item()}')\n",
        "\n",
        "  train_losses.append(loss)\n",
        "  train_correct.append(trn_corr)\n",
        "\n",
        "  # Test\n",
        "  with torch.no_grad(): #No gradient so we don't update our weights and biases with test data\n",
        "    for b,(X_test, y_test) in enumerate(test_loader):\n",
        "      y_val = model(X_test)\n",
        "      predicted = torch.max(y_val.data, 1)[1] # Adding up correct predictions\n",
        "      tst_corr += (predicted == y_test).sum() # T=1 F=0 and sum away\n",
        "\n",
        "\n",
        "  loss = criterion(y_val, y_test)\n",
        "  test_losses.append(loss)\n",
        "  test_correct.append(tst_corr)\n",
        "\n",
        "\n",
        "\n",
        "current_time = time.time()\n",
        "total = current_time - start_time\n",
        "print(f'Training Took: {total/60} minutes!')"
      ],
      "metadata": {
        "colab": {
          "base_uri": "https://localhost:8080/"
        },
        "id": "DSvdWO9BncIq",
        "outputId": "8215eb0d-19ea-40f8-b82d-3a3b8d567980"
      },
      "execution_count": null,
      "outputs": [
        {
          "output_type": "stream",
          "name": "stdout",
          "text": [
            "Epoch: 0  Batch: 600  Loss: 0.012505742721259594\n",
            "Epoch: 0  Batch: 1200  Loss: 0.059554439038038254\n",
            "Epoch: 0  Batch: 1800  Loss: 0.01286345161497593\n",
            "Epoch: 0  Batch: 2400  Loss: 0.13558034598827362\n",
            "Epoch: 0  Batch: 3000  Loss: 0.004820442292839289\n",
            "Epoch: 0  Batch: 3600  Loss: 0.010546308942139149\n",
            "Epoch: 0  Batch: 4200  Loss: 0.24395230412483215\n",
            "Epoch: 0  Batch: 4800  Loss: 0.007479517254978418\n",
            "Epoch: 0  Batch: 5400  Loss: 0.009367642924189568\n",
            "Epoch: 0  Batch: 6000  Loss: 0.0018434313824400306\n",
            "Epoch: 1  Batch: 600  Loss: 0.03221464157104492\n",
            "Epoch: 1  Batch: 1200  Loss: 0.003333463566377759\n",
            "Epoch: 1  Batch: 1800  Loss: 0.04126342386007309\n",
            "Epoch: 1  Batch: 2400  Loss: 0.14685525000095367\n",
            "Epoch: 1  Batch: 3000  Loss: 0.12026345729827881\n",
            "Epoch: 1  Batch: 3600  Loss: 0.0001952919119503349\n",
            "Epoch: 1  Batch: 4200  Loss: 0.00016604487609583884\n",
            "Epoch: 1  Batch: 4800  Loss: 0.0006250619189813733\n",
            "Epoch: 1  Batch: 5400  Loss: 0.0019755663815885782\n",
            "Epoch: 1  Batch: 6000  Loss: 0.0005515654920600355\n",
            "Epoch: 2  Batch: 600  Loss: 0.029676983132958412\n",
            "Epoch: 2  Batch: 1200  Loss: 0.0007412865525111556\n",
            "Epoch: 2  Batch: 1800  Loss: 0.0008890863391570747\n",
            "Epoch: 2  Batch: 2400  Loss: 0.006851988844573498\n",
            "Epoch: 2  Batch: 3000  Loss: 0.3968263268470764\n",
            "Epoch: 2  Batch: 3600  Loss: 0.00292785931378603\n",
            "Epoch: 2  Batch: 4200  Loss: 0.0005554658127948642\n",
            "Epoch: 2  Batch: 4800  Loss: 0.006729685701429844\n",
            "Epoch: 2  Batch: 5400  Loss: 0.0051476918160915375\n",
            "Epoch: 2  Batch: 6000  Loss: 0.0030590523965656757\n",
            "Epoch: 3  Batch: 600  Loss: 0.0015550360549241304\n",
            "Epoch: 3  Batch: 1200  Loss: 0.0016640543472021818\n",
            "Epoch: 3  Batch: 1800  Loss: 0.0014323515351861715\n",
            "Epoch: 3  Batch: 2400  Loss: 0.0014698707964271307\n",
            "Epoch: 3  Batch: 3000  Loss: 0.003533406648784876\n",
            "Epoch: 3  Batch: 3600  Loss: 6.788404425606132e-05\n",
            "Epoch: 3  Batch: 4200  Loss: 0.01356517057865858\n",
            "Epoch: 3  Batch: 4800  Loss: 0.02494993433356285\n",
            "Epoch: 3  Batch: 5400  Loss: 4.3281226680846885e-05\n",
            "Epoch: 3  Batch: 6000  Loss: 0.08026562631130219\n",
            "Epoch: 4  Batch: 600  Loss: 4.7541670937789604e-05\n",
            "Epoch: 4  Batch: 1200  Loss: 0.03551480919122696\n",
            "Epoch: 4  Batch: 1800  Loss: 0.0014768592081964016\n",
            "Epoch: 4  Batch: 2400  Loss: 0.23901721835136414\n",
            "Epoch: 4  Batch: 3000  Loss: 0.0004619716783054173\n",
            "Epoch: 4  Batch: 3600  Loss: 0.11063989251852036\n",
            "Epoch: 4  Batch: 4200  Loss: 0.01616169512271881\n",
            "Epoch: 4  Batch: 4800  Loss: 4.18398340116255e-05\n",
            "Epoch: 4  Batch: 5400  Loss: 1.901343603094574e-05\n",
            "Epoch: 4  Batch: 6000  Loss: 0.007096839137375355\n",
            "Training Took: 3.575582750638326 minutes!\n"
          ]
        }
      ]
    },
    {
      "cell_type": "code",
      "source": [
        "# Graph the loss at epoch\n",
        "train_losses = [tl.item() for tl in train_losses]\n",
        "plt.plot(train_losses, label=\"Training Loss\")\n",
        "plt.plot(test_losses, label=\"Validation Loss\")\n",
        "plt.title(\"Loss at Epoch\")\n",
        "plt.legend()"
      ],
      "metadata": {
        "id": "RF5E77oynuwr",
        "colab": {
          "base_uri": "https://localhost:8080/",
          "height": 469
        },
        "outputId": "1198a4f3-a581-46d7-a498-349133fa98ff"
      },
      "execution_count": null,
      "outputs": [
        {
          "output_type": "execute_result",
          "data": {
            "text/plain": [
              "<matplotlib.legend.Legend at 0x788662d3b710>"
            ]
          },
          "metadata": {},
          "execution_count": 25
        },
        {
          "output_type": "display_data",
          "data": {
            "text/plain": [
              "<Figure size 640x480 with 1 Axes>"
            ],
            "image/png": "[encoded data removed]"
          },
          "metadata": {}
        }
      ]
    },
    {
      "cell_type": "code",
      "source": [
        "# graph the accuracy at the end of each epoch\n",
        "plt.plot([t/600 for t in train_correct], label=\"Training Accuracy\")\n",
        "plt.plot([t/100 for t in test_correct], label=\"Validation Accuracy\")\n",
        "plt.title(\"Accuracy at the end of each Epoch\")\n",
        "plt.legend()"
      ],
      "metadata": {
        "colab": {
          "base_uri": "https://localhost:8080/",
          "height": 469
        },
        "id": "LYbverKMaezw",
        "outputId": "f58c6bf7-bcaa-4a34-9d00-2cae4185e7a4"
      },
      "execution_count": null,
      "outputs": [
        {
          "output_type": "execute_result",
          "data": {
            "text/plain": [
              "<matplotlib.legend.Legend at 0x788660f1fe90>"
            ]
          },
          "metadata": {},
          "execution_count": 27
        },
        {
          "output_type": "display_data",
          "data": {
            "text/plain": [
              "<Figure size 640x480 with 1 Axes>"
            ],
            "image/png": "[encoded data removed]"
          },
          "metadata": {}
        }
      ]
    },
    {
      "cell_type": "code",
      "source": [
        "test_load_everthing = Data.DataLoader(dataset=test_data, batch_size=10000, shuffle=False)\n"
      ],
      "metadata": {
        "id": "hRWtW6LMaorF"
      },
      "execution_count": null,
      "outputs": []
    },
    {
      "cell_type": "code",
      "source": [
        "with torch.no_grad():\n",
        "  correct = 0\n",
        "  for b,(X_test, y_test) in enumerate(test_load_everthing):\n",
        "    y_val = model(X_test)\n",
        "    predicted = torch.max(y_val.data, 1)[1]\n",
        "    correct += (predicted == y_test).sum()\n",
        "\n"
      ],
      "metadata": {
        "id": "LNns82_ZbHn5"
      },
      "execution_count": null,
      "outputs": []
    },
    {
      "cell_type": "code",
      "source": [
        "print(f'Test Accuracy: {(correct/10000)*100}')"
      ],
      "metadata": {
        "colab": {
          "base_uri": "https://localhost:8080/"
        },
        "id": "Xrryahkibo_T",
        "outputId": "b1e504c5-f218-4db9-8a66-e192dc0b1afb"
      },
      "execution_count": null,
      "outputs": [
        {
          "output_type": "stream",
          "name": "stdout",
          "text": [
            "Test Accuracy: 98.73999786376953\n"
          ]
        }
      ]
    },
    {
      "cell_type": "code",
      "source": [],
      "metadata": {
        "id": "KjPv_A9abycL"
      },
      "execution_count": null,
      "outputs": []
    }
  ]
}